{
 "cells": [
  {
   "cell_type": "code",
   "execution_count": 1,
   "id": "initial_id",
   "metadata": {
    "collapsed": true,
    "ExecuteTime": {
     "end_time": "2024-04-25T06:34:41.787850800Z",
     "start_time": "2024-04-25T06:34:41.236086800Z"
    }
   },
   "outputs": [
    {
     "name": "stdout",
     "output_type": "stream",
     "text": [
      "environment checked!\n"
     ]
    }
   ],
   "source": [
    "import xgboost as xgb\n",
    "import pandas as pd\n",
    "import numpy as np\n",
    "from sklearn.model_selection import KFold\n",
    "from sklearn.metrics import mean_squared_log_error\n",
    "from math import sqrt\n",
    "from numpy import round, clip\n",
    "from sklearn.model_selection import cross_val_score\n",
    "print(\"environment checked!\")"
   ]
  },
  {
   "cell_type": "code",
   "execution_count": 2,
   "outputs": [],
   "source": [
    "from lightgbm import LGBMRegressor\n",
    "from catboost import CatBoostRegressor"
   ],
   "metadata": {
    "collapsed": false,
    "ExecuteTime": {
     "end_time": "2024-04-25T06:34:42.174384100Z",
     "start_time": "2024-04-25T06:34:41.787850800Z"
    }
   },
   "id": "72cf1cc2c7161d4a"
  },
  {
   "cell_type": "markdown",
   "source": [
    "# 数据部分"
   ],
   "metadata": {
    "collapsed": false
   },
   "id": "f2d90eae2428e98c"
  },
  {
   "cell_type": "markdown",
   "source": [
    "比赛数据导入，重命名特征列，方便理解，实验数据为data，预测数据为pred_data"
   ],
   "metadata": {
    "collapsed": false
   },
   "id": "326978b8baf65bbb"
  },
  {
   "cell_type": "code",
   "execution_count": 3,
   "outputs": [
    {
     "data": {
      "text/plain": "   Sex  Length  Diameter  Height  Whole_weight  Shucked_weight  \\\nid                                                               \n0    F   0.550     0.430   0.150        0.7715          0.3285   \n1    F   0.630     0.490   0.145        1.1300          0.4580   \n2    I   0.160     0.110   0.025        0.0210          0.0055   \n3    M   0.595     0.475   0.150        0.9145          0.3755   \n4    I   0.555     0.425   0.130        0.7820          0.3695   \n\n    Viscera_weight  Shell_weight  Rings  \nid                                       \n0           0.1465        0.2400     11  \n1           0.2765        0.3200     11  \n2           0.0030        0.0050      6  \n3           0.2055        0.2500     10  \n4           0.1600        0.1975      9  ",
      "text/html": "<div>\n<style scoped>\n    .dataframe tbody tr th:only-of-type {\n        vertical-align: middle;\n    }\n\n    .dataframe tbody tr th {\n        vertical-align: top;\n    }\n\n    .dataframe thead th {\n        text-align: right;\n    }\n</style>\n<table border=\"1\" class=\"dataframe\">\n  <thead>\n    <tr style=\"text-align: right;\">\n      <th></th>\n      <th>Sex</th>\n      <th>Length</th>\n      <th>Diameter</th>\n      <th>Height</th>\n      <th>Whole_weight</th>\n      <th>Shucked_weight</th>\n      <th>Viscera_weight</th>\n      <th>Shell_weight</th>\n      <th>Rings</th>\n    </tr>\n    <tr>\n      <th>id</th>\n      <th></th>\n      <th></th>\n      <th></th>\n      <th></th>\n      <th></th>\n      <th></th>\n      <th></th>\n      <th></th>\n      <th></th>\n    </tr>\n  </thead>\n  <tbody>\n    <tr>\n      <th>0</th>\n      <td>F</td>\n      <td>0.550</td>\n      <td>0.430</td>\n      <td>0.150</td>\n      <td>0.7715</td>\n      <td>0.3285</td>\n      <td>0.1465</td>\n      <td>0.2400</td>\n      <td>11</td>\n    </tr>\n    <tr>\n      <th>1</th>\n      <td>F</td>\n      <td>0.630</td>\n      <td>0.490</td>\n      <td>0.145</td>\n      <td>1.1300</td>\n      <td>0.4580</td>\n      <td>0.2765</td>\n      <td>0.3200</td>\n      <td>11</td>\n    </tr>\n    <tr>\n      <th>2</th>\n      <td>I</td>\n      <td>0.160</td>\n      <td>0.110</td>\n      <td>0.025</td>\n      <td>0.0210</td>\n      <td>0.0055</td>\n      <td>0.0030</td>\n      <td>0.0050</td>\n      <td>6</td>\n    </tr>\n    <tr>\n      <th>3</th>\n      <td>M</td>\n      <td>0.595</td>\n      <td>0.475</td>\n      <td>0.150</td>\n      <td>0.9145</td>\n      <td>0.3755</td>\n      <td>0.2055</td>\n      <td>0.2500</td>\n      <td>10</td>\n    </tr>\n    <tr>\n      <th>4</th>\n      <td>I</td>\n      <td>0.555</td>\n      <td>0.425</td>\n      <td>0.130</td>\n      <td>0.7820</td>\n      <td>0.3695</td>\n      <td>0.1600</td>\n      <td>0.1975</td>\n      <td>9</td>\n    </tr>\n  </tbody>\n</table>\n</div>"
     },
     "execution_count": 3,
     "metadata": {},
     "output_type": "execute_result"
    }
   ],
   "source": [
    "# 导入比赛数据（train,test)以及原始数据（uci-dataset）\n",
    "data = pd.read_csv(\"./data/playground-series-s4e4/train.csv\",index_col=\"id\")\n",
    "pred_data = pd.read_csv(\"./data/playground-series-s4e4/test.csv\",index_col=\"id\")\n",
    "\n",
    "columns = ['Sex', 'Length', 'Diameter', 'Height', 'Whole_weight', 'Shucked_weight', 'Viscera_weight', 'Shell_weight', 'Rings']\n",
    "data.columns = columns\n",
    "pred_data.columns = columns[:-1]\n",
    "data.head()"
   ],
   "metadata": {
    "collapsed": false,
    "ExecuteTime": {
     "end_time": "2024-04-25T06:34:42.267264400Z",
     "start_time": "2024-04-25T06:34:42.176582300Z"
    }
   },
   "id": "a8180370c1d0fa9b"
  },
  {
   "cell_type": "markdown",
   "source": [
    "独热编码Sex"
   ],
   "metadata": {
    "collapsed": false
   },
   "id": "f548a04d08017411"
  },
  {
   "cell_type": "code",
   "execution_count": 4,
   "outputs": [
    {
     "data": {
      "text/plain": "    Length  Diameter  Height  Whole_weight  Shucked_weight  Viscera_weight  \\\nid                                                                           \n0    0.550     0.430   0.150        0.7715          0.3285          0.1465   \n1    0.630     0.490   0.145        1.1300          0.4580          0.2765   \n2    0.160     0.110   0.025        0.0210          0.0055          0.0030   \n3    0.595     0.475   0.150        0.9145          0.3755          0.2055   \n4    0.555     0.425   0.130        0.7820          0.3695          0.1600   \n\n    Shell_weight  Rings  Sex_F  Sex_I  Sex_M  \nid                                            \n0         0.2400     11      1      0      0  \n1         0.3200     11      1      0      0  \n2         0.0050      6      0      1      0  \n3         0.2500     10      0      0      1  \n4         0.1975      9      0      1      0  ",
      "text/html": "<div>\n<style scoped>\n    .dataframe tbody tr th:only-of-type {\n        vertical-align: middle;\n    }\n\n    .dataframe tbody tr th {\n        vertical-align: top;\n    }\n\n    .dataframe thead th {\n        text-align: right;\n    }\n</style>\n<table border=\"1\" class=\"dataframe\">\n  <thead>\n    <tr style=\"text-align: right;\">\n      <th></th>\n      <th>Length</th>\n      <th>Diameter</th>\n      <th>Height</th>\n      <th>Whole_weight</th>\n      <th>Shucked_weight</th>\n      <th>Viscera_weight</th>\n      <th>Shell_weight</th>\n      <th>Rings</th>\n      <th>Sex_F</th>\n      <th>Sex_I</th>\n      <th>Sex_M</th>\n    </tr>\n    <tr>\n      <th>id</th>\n      <th></th>\n      <th></th>\n      <th></th>\n      <th></th>\n      <th></th>\n      <th></th>\n      <th></th>\n      <th></th>\n      <th></th>\n      <th></th>\n      <th></th>\n    </tr>\n  </thead>\n  <tbody>\n    <tr>\n      <th>0</th>\n      <td>0.550</td>\n      <td>0.430</td>\n      <td>0.150</td>\n      <td>0.7715</td>\n      <td>0.3285</td>\n      <td>0.1465</td>\n      <td>0.2400</td>\n      <td>11</td>\n      <td>1</td>\n      <td>0</td>\n      <td>0</td>\n    </tr>\n    <tr>\n      <th>1</th>\n      <td>0.630</td>\n      <td>0.490</td>\n      <td>0.145</td>\n      <td>1.1300</td>\n      <td>0.4580</td>\n      <td>0.2765</td>\n      <td>0.3200</td>\n      <td>11</td>\n      <td>1</td>\n      <td>0</td>\n      <td>0</td>\n    </tr>\n    <tr>\n      <th>2</th>\n      <td>0.160</td>\n      <td>0.110</td>\n      <td>0.025</td>\n      <td>0.0210</td>\n      <td>0.0055</td>\n      <td>0.0030</td>\n      <td>0.0050</td>\n      <td>6</td>\n      <td>0</td>\n      <td>1</td>\n      <td>0</td>\n    </tr>\n    <tr>\n      <th>3</th>\n      <td>0.595</td>\n      <td>0.475</td>\n      <td>0.150</td>\n      <td>0.9145</td>\n      <td>0.3755</td>\n      <td>0.2055</td>\n      <td>0.2500</td>\n      <td>10</td>\n      <td>0</td>\n      <td>0</td>\n      <td>1</td>\n    </tr>\n    <tr>\n      <th>4</th>\n      <td>0.555</td>\n      <td>0.425</td>\n      <td>0.130</td>\n      <td>0.7820</td>\n      <td>0.3695</td>\n      <td>0.1600</td>\n      <td>0.1975</td>\n      <td>9</td>\n      <td>0</td>\n      <td>1</td>\n      <td>0</td>\n    </tr>\n  </tbody>\n</table>\n</div>"
     },
     "execution_count": 4,
     "metadata": {},
     "output_type": "execute_result"
    }
   ],
   "source": [
    "data_encoded = pd.get_dummies(data, columns=['Sex'], dtype=int)\n",
    "data_encoded.head()"
   ],
   "metadata": {
    "collapsed": false,
    "ExecuteTime": {
     "end_time": "2024-04-25T06:34:42.287535100Z",
     "start_time": "2024-04-25T06:34:42.265210900Z"
    }
   },
   "id": "a0e6bd2ab40a230f"
  },
  {
   "cell_type": "markdown",
   "source": [
    "二元编码，因为FM分布几乎一样，弃用，不如独热编码"
   ],
   "metadata": {
    "collapsed": false
   },
   "id": "d4bd392d32075198"
  },
  {
   "cell_type": "code",
   "execution_count": 5,
   "outputs": [],
   "source": [
    "# # 创建一个新列，根据'Sex'列的值用1或0填充\n",
    "# data['Sex_encoded'] = data['Sex'].apply(lambda x: 1 if x in ['F', 'M'] else 0)\n",
    "# \n",
    "# # 现在，您可以选择删除原始的'Sex'列\n",
    "# data.drop('Sex', axis=1, inplace=True)\n",
    "# \n",
    "# # 展示前几行以确认结果\n",
    "# data.head()\n",
    "# data_bin = data"
   ],
   "metadata": {
    "collapsed": false,
    "ExecuteTime": {
     "end_time": "2024-04-25T06:34:42.370154900Z",
     "start_time": "2024-04-25T06:34:42.284458700Z"
    }
   },
   "id": "1fd633174872368"
  },
  {
   "cell_type": "markdown",
   "source": [
    "合成特征，比如体积比较有意义，壳密度，长宽比，壳重和去壳重量比，后续补充对Height的裁剪"
   ],
   "metadata": {
    "collapsed": false
   },
   "id": "123800eb8b1149a4"
  },
  {
   "cell_type": "code",
   "execution_count": 43,
   "outputs": [
    {
     "data": {
      "text/plain": "    Length  Diameter  Height  Whole_weight  Shucked_weight  Viscera_weight  \\\nid                                                                           \n0    0.550     0.430   0.150        0.7715          0.3285          0.1465   \n1    0.630     0.490   0.145        1.1300          0.4580          0.2765   \n2    0.160     0.110   0.025        0.0210          0.0055          0.0030   \n3    0.595     0.475   0.150        0.9145          0.3755          0.2055   \n4    0.555     0.425   0.130        0.7820          0.3695          0.1600   \n\n    Shell_weight  Rings  Sex_F  Sex_I  Sex_M    Volume    Density  \\\nid                                                                  \n0         0.2400     11      1      0      0  0.035475   6.765328   \n1         0.3200     11      1      0      0  0.044761   7.149001   \n2         0.0050      6      0      1      0  0.000440  11.363636   \n3         0.2500     10      0      0      1  0.042394   5.897096   \n4         0.1975      9      0      1      0  0.030664   6.440830   \n\n    AspectRatio  ShellRatio  \nid                           \n0      1.279070    0.730594  \n1      1.285714    0.698690  \n2      1.454545    0.909091  \n3      1.252632    0.665779  \n4      1.305882    0.534506  ",
      "text/html": "<div>\n<style scoped>\n    .dataframe tbody tr th:only-of-type {\n        vertical-align: middle;\n    }\n\n    .dataframe tbody tr th {\n        vertical-align: top;\n    }\n\n    .dataframe thead th {\n        text-align: right;\n    }\n</style>\n<table border=\"1\" class=\"dataframe\">\n  <thead>\n    <tr style=\"text-align: right;\">\n      <th></th>\n      <th>Length</th>\n      <th>Diameter</th>\n      <th>Height</th>\n      <th>Whole_weight</th>\n      <th>Shucked_weight</th>\n      <th>Viscera_weight</th>\n      <th>Shell_weight</th>\n      <th>Rings</th>\n      <th>Sex_F</th>\n      <th>Sex_I</th>\n      <th>Sex_M</th>\n      <th>Volume</th>\n      <th>Density</th>\n      <th>AspectRatio</th>\n      <th>ShellRatio</th>\n    </tr>\n    <tr>\n      <th>id</th>\n      <th></th>\n      <th></th>\n      <th></th>\n      <th></th>\n      <th></th>\n      <th></th>\n      <th></th>\n      <th></th>\n      <th></th>\n      <th></th>\n      <th></th>\n      <th></th>\n      <th></th>\n      <th></th>\n      <th></th>\n    </tr>\n  </thead>\n  <tbody>\n    <tr>\n      <th>0</th>\n      <td>0.550</td>\n      <td>0.430</td>\n      <td>0.150</td>\n      <td>0.7715</td>\n      <td>0.3285</td>\n      <td>0.1465</td>\n      <td>0.2400</td>\n      <td>11</td>\n      <td>1</td>\n      <td>0</td>\n      <td>0</td>\n      <td>0.035475</td>\n      <td>6.765328</td>\n      <td>1.279070</td>\n      <td>0.730594</td>\n    </tr>\n    <tr>\n      <th>1</th>\n      <td>0.630</td>\n      <td>0.490</td>\n      <td>0.145</td>\n      <td>1.1300</td>\n      <td>0.4580</td>\n      <td>0.2765</td>\n      <td>0.3200</td>\n      <td>11</td>\n      <td>1</td>\n      <td>0</td>\n      <td>0</td>\n      <td>0.044761</td>\n      <td>7.149001</td>\n      <td>1.285714</td>\n      <td>0.698690</td>\n    </tr>\n    <tr>\n      <th>2</th>\n      <td>0.160</td>\n      <td>0.110</td>\n      <td>0.025</td>\n      <td>0.0210</td>\n      <td>0.0055</td>\n      <td>0.0030</td>\n      <td>0.0050</td>\n      <td>6</td>\n      <td>0</td>\n      <td>1</td>\n      <td>0</td>\n      <td>0.000440</td>\n      <td>11.363636</td>\n      <td>1.454545</td>\n      <td>0.909091</td>\n    </tr>\n    <tr>\n      <th>3</th>\n      <td>0.595</td>\n      <td>0.475</td>\n      <td>0.150</td>\n      <td>0.9145</td>\n      <td>0.3755</td>\n      <td>0.2055</td>\n      <td>0.2500</td>\n      <td>10</td>\n      <td>0</td>\n      <td>0</td>\n      <td>1</td>\n      <td>0.042394</td>\n      <td>5.897096</td>\n      <td>1.252632</td>\n      <td>0.665779</td>\n    </tr>\n    <tr>\n      <th>4</th>\n      <td>0.555</td>\n      <td>0.425</td>\n      <td>0.130</td>\n      <td>0.7820</td>\n      <td>0.3695</td>\n      <td>0.1600</td>\n      <td>0.1975</td>\n      <td>9</td>\n      <td>0</td>\n      <td>1</td>\n      <td>0</td>\n      <td>0.030664</td>\n      <td>6.440830</td>\n      <td>1.305882</td>\n      <td>0.534506</td>\n    </tr>\n  </tbody>\n</table>\n</div>"
     },
     "execution_count": 43,
     "metadata": {},
     "output_type": "execute_result"
    }
   ],
   "source": [
    "# Height 有 0 值\n",
    "data_encoded[\"Height\"] = data_encoded[\"Height\"].clip(upper=0.2,lower=0.02)\n",
    "data_encoded[\"Volume\"] = data_encoded[\"Length\"] * data_encoded[\"Diameter\"] * data_encoded[\"Height\"]\n",
    "data_encoded[\"Density\"] = data_encoded[\"Shell_weight\"] / data_encoded[\"Volume\"]\n",
    "data_encoded[\"AspectRatio\"] = data_encoded[\"Length\"] / data_encoded[\"Diameter\"]\n",
    "data_encoded[\"ShellRatio\"] = data_encoded[\"Shell_weight\"] / data_encoded[\"Shucked_weight\"]\n",
    "data_encoded.head()"
   ],
   "metadata": {
    "collapsed": false,
    "ExecuteTime": {
     "end_time": "2024-04-25T08:20:48.984427900Z",
     "start_time": "2024-04-25T08:20:48.968225600Z"
    }
   },
   "id": "5a0573408cd7d75e"
  },
  {
   "cell_type": "markdown",
   "source": [
    "计算相关性,最后结果只有体积和壳重比比较好。很奇怪，性别为什么相关性差，暂时保留"
   ],
   "metadata": {
    "collapsed": false
   },
   "id": "c3c41a374786dec9"
  },
  {
   "cell_type": "code",
   "execution_count": 42,
   "outputs": [
    {
     "name": "stderr",
     "output_type": "stream",
     "text": [
      "C:\\Users\\gusuc\\.conda\\envs\\PS4E4\\Lib\\site-packages\\seaborn\\matrix.py:260: FutureWarning: Format strings passed to MaskedConstant are ignored, but in future may error or produce different behavior\n",
      "  annotation = (\"{:\" + self.fmt + \"}\").format(val)\n"
     ]
    },
    {
     "data": {
      "text/plain": "<Figure size 2000x1200 with 2 Axes>",
      "image/png": "[encoded data removed]"
     },
     "metadata": {},
     "output_type": "display_data"
    }
   ],
   "source": [
    "import matplotlib.pyplot as plt\n",
    "import seaborn as sns\n",
    "mask = np.triu(np.ones_like(data_encoded.corr()))\n",
    "plt.figure(figsize=(20,12))\n",
    "sns.heatmap(data_encoded.corr(), cmap=\"viridis_r\", annot=True, mask=mask,vmin=-1,vmax=1);"
   ],
   "metadata": {
    "collapsed": false,
    "ExecuteTime": {
     "end_time": "2024-04-25T08:13:39.721873100Z",
     "start_time": "2024-04-25T08:13:39.178027800Z"
    }
   },
   "id": "6d46e23e58b556a5"
  },
  {
   "cell_type": "code",
   "execution_count": 46,
   "outputs": [
    {
     "data": {
      "text/plain": "    Length  Diameter  Height  Whole_weight  Shucked_weight  Viscera_weight  \\\nid                                                                           \n0    0.550     0.430   0.150        0.7715          0.3285          0.1465   \n1    0.630     0.490   0.145        1.1300          0.4580          0.2765   \n2    0.160     0.110   0.025        0.0210          0.0055          0.0030   \n3    0.595     0.475   0.150        0.9145          0.3755          0.2055   \n4    0.555     0.425   0.130        0.7820          0.3695          0.1600   \n\n    Shell_weight    Volume  ShellRatio  \nid                                      \n0         0.2400  0.035475    0.730594  \n1         0.3200  0.044761    0.698690  \n2         0.0050  0.000440    0.909091  \n3         0.2500  0.042394    0.665779  \n4         0.1975  0.030664    0.534506  ",
      "text/html": "<div>\n<style scoped>\n    .dataframe tbody tr th:only-of-type {\n        vertical-align: middle;\n    }\n\n    .dataframe tbody tr th {\n        vertical-align: top;\n    }\n\n    .dataframe thead th {\n        text-align: right;\n    }\n</style>\n<table border=\"1\" class=\"dataframe\">\n  <thead>\n    <tr style=\"text-align: right;\">\n      <th></th>\n      <th>Length</th>\n      <th>Diameter</th>\n      <th>Height</th>\n      <th>Whole_weight</th>\n      <th>Shucked_weight</th>\n      <th>Viscera_weight</th>\n      <th>Shell_weight</th>\n      <th>Volume</th>\n      <th>ShellRatio</th>\n    </tr>\n    <tr>\n      <th>id</th>\n      <th></th>\n      <th></th>\n      <th></th>\n      <th></th>\n      <th></th>\n      <th></th>\n      <th></th>\n      <th></th>\n      <th></th>\n    </tr>\n  </thead>\n  <tbody>\n    <tr>\n      <th>0</th>\n      <td>0.550</td>\n      <td>0.430</td>\n      <td>0.150</td>\n      <td>0.7715</td>\n      <td>0.3285</td>\n      <td>0.1465</td>\n      <td>0.2400</td>\n      <td>0.035475</td>\n      <td>0.730594</td>\n    </tr>\n    <tr>\n      <th>1</th>\n      <td>0.630</td>\n      <td>0.490</td>\n      <td>0.145</td>\n      <td>1.1300</td>\n      <td>0.4580</td>\n      <td>0.2765</td>\n      <td>0.3200</td>\n      <td>0.044761</td>\n      <td>0.698690</td>\n    </tr>\n    <tr>\n      <th>2</th>\n      <td>0.160</td>\n      <td>0.110</td>\n      <td>0.025</td>\n      <td>0.0210</td>\n      <td>0.0055</td>\n      <td>0.0030</td>\n      <td>0.0050</td>\n      <td>0.000440</td>\n      <td>0.909091</td>\n    </tr>\n    <tr>\n      <th>3</th>\n      <td>0.595</td>\n      <td>0.475</td>\n      <td>0.150</td>\n      <td>0.9145</td>\n      <td>0.3755</td>\n      <td>0.2055</td>\n      <td>0.2500</td>\n      <td>0.042394</td>\n      <td>0.665779</td>\n    </tr>\n    <tr>\n      <th>4</th>\n      <td>0.555</td>\n      <td>0.425</td>\n      <td>0.130</td>\n      <td>0.7820</td>\n      <td>0.3695</td>\n      <td>0.1600</td>\n      <td>0.1975</td>\n      <td>0.030664</td>\n      <td>0.534506</td>\n    </tr>\n  </tbody>\n</table>\n</div>"
     },
     "execution_count": 46,
     "metadata": {},
     "output_type": "execute_result"
    }
   ],
   "source": [
    "# 原始：data\n",
    "# 独热编码:data_encoded\n",
    "# 2元编码：data_bin\n",
    "# 结论，独热编码效果最好\n",
    "features=['Length', 'Diameter', 'Height', 'Whole_weight', 'Shucked_weight', 'Viscera_weight', 'Shell_weight', \"Volume\", \"ShellRatio\"]\n",
    "X = data_encoded[features]\n",
    "y = data_encoded.Rings\n",
    "# 使用K折交叉验证\n",
    "kf = KFold(n_splits=5, shuffle=True, random_state=42)\n",
    "rmsle_list = []\n",
    "X.head()"
   ],
   "metadata": {
    "collapsed": false,
    "ExecuteTime": {
     "end_time": "2024-04-25T08:21:55.293467900Z",
     "start_time": "2024-04-25T08:21:55.278674700Z"
    }
   },
   "id": "8385dd9c38e026ff"
  },
  {
   "cell_type": "markdown",
   "source": [
    "# 模型部分"
   ],
   "metadata": {
    "collapsed": false
   },
   "id": "b0bfa6b1121dd1ca"
  },
  {
   "cell_type": "markdown",
   "source": [
    "## XGBoost"
   ],
   "metadata": {
    "collapsed": false
   },
   "id": "bb3ed7b0db779fe9"
  },
  {
   "cell_type": "code",
   "execution_count": 71,
   "outputs": [],
   "source": [
    "# 参数调整\n",
    "params = {\n",
    "    'objective': 'reg:squarederror',\n",
    "    'colsample_bytree': 0.3,\n",
    "    'learning_rate': 0.3,\n",
    "    'max_depth': 6,\n",
    "    'alpha': 10,\n",
    "    'n_estimators': 150\n",
    "}"
   ],
   "metadata": {
    "collapsed": false,
    "ExecuteTime": {
     "end_time": "2024-04-25T08:36:21.666054100Z",
     "start_time": "2024-04-25T08:36:21.663397700Z"
    }
   },
   "id": "b41c20d8adaa1bcd"
  },
  {
   "cell_type": "code",
   "execution_count": 72,
   "outputs": [
    {
     "data": {
      "text/plain": "Training Progress:   0%|          | 0/5 [00:00<?, ?it/s]",
      "application/vnd.jupyter.widget-view+json": {
       "version_major": 2,
       "version_minor": 0,
       "model_id": "ba9526e28d8f4196aa6431e09c8b4344"
      }
     },
     "metadata": {},
     "output_type": "display_data"
    },
    {
     "name": "stdout",
     "output_type": "stream",
     "text": [
      "Average RMSLE: 0.151672\n"
     ]
    }
   ],
   "source": [
    "from tqdm.notebook import tqdm  # 注意: 在Jupyter Notebook中使用tqdm.notebook\n",
    "\n",
    "rmsle_list = []  # 确保这个列表在循环开始前已经被初始化\n",
    "\n",
    "# 将kf.split(X)封装在tqdm()中，以显示进度条\n",
    "for train_index, test_index in tqdm(kf.split(X), total=kf.get_n_splits(), desc=\"Training Progress\"):\n",
    "    X_train, X_test = X.iloc[train_index], X.iloc[test_index]\n",
    "    y_train, y_test = y.iloc[train_index], y.iloc[test_index]\n",
    "    \n",
    "    # 训练模型\n",
    "    xg_reg = xgb.XGBRegressor(**params)\n",
    "    xg_reg.fit(X_train, y_train)\n",
    "    \n",
    "    # 预测测试集\n",
    "    y_pred = xg_reg.predict(X_test)\n",
    "    \n",
    "    # 计算RMSLE\n",
    "    rmsle = sqrt(mean_squared_log_error(y_test, y_pred))\n",
    "    rmsle_list.append(rmsle)\n",
    "\n",
    "# 计算平均RMSLE\n",
    "average_rmsle = sum(rmsle_list) / len(rmsle_list)\n",
    "print(\"Average RMSLE: %f\" % (average_rmsle))"
   ],
   "metadata": {
    "collapsed": false,
    "ExecuteTime": {
     "end_time": "2024-04-25T08:36:26.452515100Z",
     "start_time": "2024-04-25T08:36:22.148996200Z"
    }
   },
   "id": "6c02795e4976e045"
  },
  {
   "cell_type": "markdown",
   "source": [
    "三个baseline models\n",
    "xgboost,lightgbm,catboost"
   ],
   "metadata": {
    "collapsed": false
   },
   "id": "9cd95d61626faa55"
  },
  {
   "cell_type": "markdown",
   "source": [],
   "metadata": {
    "collapsed": false
   },
   "id": "c7f62cdad43c97fa"
  },
  {
   "cell_type": "code",
   "execution_count": 47,
   "outputs": [
    {
     "name": "stdout",
     "output_type": "stream",
     "text": [
      "CV RMSLE score of XGB is  0.15169608723679645\n"
     ]
    }
   ],
   "source": [
    "xgbmodel = xgb.XGBRegressor(random_state=42)\n",
    "print(\"CV RMSLE score of XGB is \",np.sqrt(-cross_val_score(xgbmodel,X,y,cv=4, scoring = 'neg_mean_squared_log_error').mean()))"
   ],
   "metadata": {
    "collapsed": false,
    "ExecuteTime": {
     "end_time": "2024-04-25T08:22:02.309136500Z",
     "start_time": "2024-04-25T08:21:58.280629400Z"
    }
   },
   "id": "2186cf2bf449c75b"
  },
  {
   "cell_type": "code",
   "execution_count": 48,
   "outputs": [
    {
     "name": "stdout",
     "output_type": "stream",
     "text": [
      "CV RMSLE score of LGBM is  0.15163457461182844\n"
     ]
    }
   ],
   "source": [
    "lgbmmodel = LGBMRegressor(random_state=42, verbose=-1)\n",
    "print(\"CV RMSLE score of LGBM is \",np.sqrt(-cross_val_score(lgbmmodel,X,y,cv=4, scoring = 'neg_mean_squared_log_error').mean()))"
   ],
   "metadata": {
    "collapsed": false,
    "ExecuteTime": {
     "end_time": "2024-04-25T08:22:04.834273500Z",
     "start_time": "2024-04-25T08:22:04.299411500Z"
    }
   },
   "id": "c71328755f93fc09"
  },
  {
   "cell_type": "code",
   "execution_count": 49,
   "outputs": [
    {
     "name": "stdout",
     "output_type": "stream",
     "text": [
      "CV RMSLE score of CAT is  0.15078453954312898\n"
     ]
    }
   ],
   "source": [
    "catmodel = CatBoostRegressor(random_state=42, verbose=0)\n",
    "print(\"CV RMSLE score of CAT is \",np.sqrt(-cross_val_score(catmodel,X,y,cv=4, scoring = 'neg_mean_squared_log_error').mean()))"
   ],
   "metadata": {
    "collapsed": false,
    "ExecuteTime": {
     "end_time": "2024-04-25T08:22:21.327539300Z",
     "start_time": "2024-04-25T08:22:06.541352800Z"
    }
   },
   "id": "8f8c9aa1a23f78f4"
  }
 ],
 "metadata": {
  "kernelspec": {
   "display_name": "Python 3",
   "language": "python",
   "name": "python3"
  },
  "language_info": {
   "codemirror_mode": {
    "name": "ipython",
    "version": 2
   },
   "file_extension": ".py",
   "mimetype": "text/x-python",
   "name": "python",
   "nbconvert_exporter": "python",
   "pygments_lexer": "ipython2",
   "version": "2.7.6"
  }
 },
 "nbformat": 4,
 "nbformat_minor": 5
}
