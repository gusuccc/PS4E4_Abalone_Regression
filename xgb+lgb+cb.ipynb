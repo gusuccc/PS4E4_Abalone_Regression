{
 "cells": [
  {
   "cell_type": "code",
   "execution_count": 37,
   "id": "initial_id",
   "metadata": {
    "collapsed": true,
    "ExecuteTime": {
     "end_time": "2024-04-30T02:05:23.351909300Z",
     "start_time": "2024-04-30T02:05:23.348096300Z"
    }
   },
   "outputs": [
    {
     "name": "stdout",
     "output_type": "stream",
     "text": [
      "environment checked!\n"
     ]
    }
   ],
   "source": [
    "import pandas as pd\n",
    "import numpy as np\n",
    "from sklearn.model_selection import KFold\n",
    "from sklearn.metrics import mean_squared_log_error\n",
    "from sklearn.metrics import make_scorer\n",
    "from math import sqrt\n",
    "from numpy import round, clip\n",
    "from sklearn.model_selection import cross_val_score\n",
    "print(\"environment checked!\")"
   ]
  },
  {
   "cell_type": "code",
   "execution_count": 38,
   "outputs": [],
   "source": [
    "from lightgbm import LGBMRegressor\n",
    "from catboost import CatBoostRegressor\n",
    "import xgboost as xgb\n",
    "import optuna\n",
    "from sklearn.compose import TransformedTargetRegressor\n",
    "from sklearn.model_selection import train_test_split\n",
    "import matplotlib.pyplot as plt\n",
    "from sklearn.ensemble import VotingRegressor\n",
    "import warnings\n",
    "warnings.filterwarnings(\"ignore\")\n",
    "from tqdm.notebook import tqdm"
   ],
   "metadata": {
    "collapsed": false,
    "ExecuteTime": {
     "end_time": "2024-04-30T02:05:24.046706900Z",
     "start_time": "2024-04-30T02:05:24.042962300Z"
    }
   },
   "id": "72cf1cc2c7161d4a"
  },
  {
   "cell_type": "markdown",
   "source": [
    "# 数据部分"
   ],
   "metadata": {
    "collapsed": false
   },
   "id": "f2d90eae2428e98c"
  },
  {
   "cell_type": "markdown",
   "source": [
    "比赛数据导入，重命名特征列，方便理解，实验数据为data，预测数据为pred_data"
   ],
   "metadata": {
    "collapsed": false
   },
   "id": "326978b8baf65bbb"
  },
  {
   "cell_type": "code",
   "execution_count": 39,
   "outputs": [
    {
     "data": {
      "text/plain": "  Sex  Length  Diameter  Height  Whole_weight  Shucked_weight  Viscera_weight  \\\n0   F   0.550     0.430   0.150        0.7715          0.3285          0.1465   \n1   F   0.630     0.490   0.145        1.1300          0.4580          0.2765   \n2   I   0.160     0.110   0.025        0.0210          0.0055          0.0030   \n3   M   0.595     0.475   0.150        0.9145          0.3755          0.2055   \n4   I   0.555     0.425   0.130        0.7820          0.3695          0.1600   \n\n   Shell_weight  Rings  \n0        0.2400     11  \n1        0.3200     11  \n2        0.0050      6  \n3        0.2500     10  \n4        0.1975      9  ",
      "text/html": "<div>\n<style scoped>\n    .dataframe tbody tr th:only-of-type {\n        vertical-align: middle;\n    }\n\n    .dataframe tbody tr th {\n        vertical-align: top;\n    }\n\n    .dataframe thead th {\n        text-align: right;\n    }\n</style>\n<table border=\"1\" class=\"dataframe\">\n  <thead>\n    <tr style=\"text-align: right;\">\n      <th></th>\n      <th>Sex</th>\n      <th>Length</th>\n      <th>Diameter</th>\n      <th>Height</th>\n      <th>Whole_weight</th>\n      <th>Shucked_weight</th>\n      <th>Viscera_weight</th>\n      <th>Shell_weight</th>\n      <th>Rings</th>\n    </tr>\n  </thead>\n  <tbody>\n    <tr>\n      <th>0</th>\n      <td>F</td>\n      <td>0.550</td>\n      <td>0.430</td>\n      <td>0.150</td>\n      <td>0.7715</td>\n      <td>0.3285</td>\n      <td>0.1465</td>\n      <td>0.2400</td>\n      <td>11</td>\n    </tr>\n    <tr>\n      <th>1</th>\n      <td>F</td>\n      <td>0.630</td>\n      <td>0.490</td>\n      <td>0.145</td>\n      <td>1.1300</td>\n      <td>0.4580</td>\n      <td>0.2765</td>\n      <td>0.3200</td>\n      <td>11</td>\n    </tr>\n    <tr>\n      <th>2</th>\n      <td>I</td>\n      <td>0.160</td>\n      <td>0.110</td>\n      <td>0.025</td>\n      <td>0.0210</td>\n      <td>0.0055</td>\n      <td>0.0030</td>\n      <td>0.0050</td>\n      <td>6</td>\n    </tr>\n    <tr>\n      <th>3</th>\n      <td>M</td>\n      <td>0.595</td>\n      <td>0.475</td>\n      <td>0.150</td>\n      <td>0.9145</td>\n      <td>0.3755</td>\n      <td>0.2055</td>\n      <td>0.2500</td>\n      <td>10</td>\n    </tr>\n    <tr>\n      <th>4</th>\n      <td>I</td>\n      <td>0.555</td>\n      <td>0.425</td>\n      <td>0.130</td>\n      <td>0.7820</td>\n      <td>0.3695</td>\n      <td>0.1600</td>\n      <td>0.1975</td>\n      <td>9</td>\n    </tr>\n  </tbody>\n</table>\n</div>"
     },
     "execution_count": 39,
     "metadata": {},
     "output_type": "execute_result"
    }
   ],
   "source": [
    "# 导入比赛数据（train,test)以及原始数据（uci-dataset）\n",
    "train_data = pd.read_csv(\"./data/playground-series-s4e4/train.csv\",index_col=\"id\")\n",
    "pred_data = pd.read_csv(\"./data/playground-series-s4e4/test.csv\",index_col=\"id\")\n",
    "orig_data = pd.read_csv(\"./data/abalone/abalone.data\")\n",
    "\n",
    "columns = ['Sex', 'Length', 'Diameter', 'Height', 'Whole_weight', 'Shucked_weight', 'Viscera_weight', 'Shell_weight', 'Rings']\n",
    "train_data.columns = orig_data.columns =  columns\n",
    "data = pd.concat([train_data, orig_data], axis=0)\n",
    "pred_data.columns = columns[:-1]\n",
    "\n",
    "data.head()\n",
    "# pred_data.head()"
   ],
   "metadata": {
    "collapsed": false,
    "ExecuteTime": {
     "end_time": "2024-04-30T02:05:25.804509Z",
     "start_time": "2024-04-30T02:05:25.714895Z"
    }
   },
   "id": "a8180370c1d0fa9b"
  },
  {
   "cell_type": "code",
   "execution_count": null,
   "outputs": [],
   "source": [
    "# 查看 \"Height\" 为 0 的条目\n",
    "height_zero_entries = data[data['Height'] < 0.002]\n",
    "print(height_zero_entries)\n",
    "height_zero_entries1 = pred_data[pred_data['Height'] < 0.002]\n",
    "print(height_zero_entries1)\n",
    "# data.drop(data[data['Height'] == 0].index, inplace=True)\n",
    "# data.describe()"
   ],
   "metadata": {
    "collapsed": false
   },
   "id": "585cc9a8f0d971ad"
  },
  {
   "cell_type": "markdown",
   "source": [
    "独热编码Sex"
   ],
   "metadata": {
    "collapsed": false
   },
   "id": "f548a04d08017411"
  },
  {
   "cell_type": "code",
   "execution_count": null,
   "outputs": [],
   "source": [
    "data_encoded = pd.get_dummies(data, columns=['Sex'], dtype=int)\n",
    "data_encoded.head()"
   ],
   "metadata": {
    "collapsed": false
   },
   "id": "a0e6bd2ab40a230f"
  },
  {
   "cell_type": "markdown",
   "source": [
    "二元编码，因为FM分布几乎一样，弃用，不如独热编码"
   ],
   "metadata": {
    "collapsed": false
   },
   "id": "d4bd392d32075198"
  },
  {
   "cell_type": "code",
   "execution_count": null,
   "outputs": [],
   "source": [
    "# # 创建一个新列，根据'Sex'列的值用1或0填充\n",
    "# data['Sex_encoded'] = data['Sex'].apply(lambda x: 1 if x in ['F', 'M'] else 0)\n",
    "# \n",
    "# # 现在，您可以选择删除原始的'Sex'列\n",
    "# data.drop('Sex', axis=1, inplace=True)\n",
    "# \n",
    "# # 展示前几行以确认结果\n",
    "# data.head()\n",
    "# data_bin = data"
   ],
   "metadata": {
    "collapsed": false
   },
   "id": "1fd633174872368"
  },
  {
   "cell_type": "markdown",
   "source": [
    "合成特征，比如体积比较有意义，壳密度，长宽比，壳重和去壳重量比，后续补充对Height的裁剪,体积有0怎么办\n",
    "正好不算密度：保留：\n",
    "1. 体积?也考虑不要\n",
    "2. 壳重/去壳重"
   ],
   "metadata": {
    "collapsed": false
   },
   "id": "123800eb8b1149a4"
  },
  {
   "cell_type": "code",
   "execution_count": 40,
   "outputs": [
    {
     "data": {
      "text/plain": "       Length  Diameter  Height  Whole_weight  Shucked_weight  Viscera_weight  \\\nid                                                                              \n90615   0.645     0.475   0.155        1.2380          0.6185          0.3125   \n90616   0.580     0.460   0.160        0.9830          0.4785          0.2195   \n90617   0.560     0.420   0.140        0.8395          0.3525          0.1845   \n90618   0.570     0.490   0.145        0.8740          0.3525          0.1865   \n90619   0.415     0.325   0.110        0.3580          0.1575          0.0670   \n\n       Shell_weight  Sex_F  Sex_I  Sex_M  ShellRatio  \nid                                                    \n90615        0.3005      0      0      1    0.485853  \n90616        0.2750      0      0      1    0.574713  \n90617        0.2405      0      0      1    0.682270  \n90618        0.2350      0      0      1    0.666667  \n90619        0.1050      0      1      0    0.666667  ",
      "text/html": "<div>\n<style scoped>\n    .dataframe tbody tr th:only-of-type {\n        vertical-align: middle;\n    }\n\n    .dataframe tbody tr th {\n        vertical-align: top;\n    }\n\n    .dataframe thead th {\n        text-align: right;\n    }\n</style>\n<table border=\"1\" class=\"dataframe\">\n  <thead>\n    <tr style=\"text-align: right;\">\n      <th></th>\n      <th>Length</th>\n      <th>Diameter</th>\n      <th>Height</th>\n      <th>Whole_weight</th>\n      <th>Shucked_weight</th>\n      <th>Viscera_weight</th>\n      <th>Shell_weight</th>\n      <th>Sex_F</th>\n      <th>Sex_I</th>\n      <th>Sex_M</th>\n      <th>ShellRatio</th>\n    </tr>\n    <tr>\n      <th>id</th>\n      <th></th>\n      <th></th>\n      <th></th>\n      <th></th>\n      <th></th>\n      <th></th>\n      <th></th>\n      <th></th>\n      <th></th>\n      <th></th>\n      <th></th>\n    </tr>\n  </thead>\n  <tbody>\n    <tr>\n      <th>90615</th>\n      <td>0.645</td>\n      <td>0.475</td>\n      <td>0.155</td>\n      <td>1.2380</td>\n      <td>0.6185</td>\n      <td>0.3125</td>\n      <td>0.3005</td>\n      <td>0</td>\n      <td>0</td>\n      <td>1</td>\n      <td>0.485853</td>\n    </tr>\n    <tr>\n      <th>90616</th>\n      <td>0.580</td>\n      <td>0.460</td>\n      <td>0.160</td>\n      <td>0.9830</td>\n      <td>0.4785</td>\n      <td>0.2195</td>\n      <td>0.2750</td>\n      <td>0</td>\n      <td>0</td>\n      <td>1</td>\n      <td>0.574713</td>\n    </tr>\n    <tr>\n      <th>90617</th>\n      <td>0.560</td>\n      <td>0.420</td>\n      <td>0.140</td>\n      <td>0.8395</td>\n      <td>0.3525</td>\n      <td>0.1845</td>\n      <td>0.2405</td>\n      <td>0</td>\n      <td>0</td>\n      <td>1</td>\n      <td>0.682270</td>\n    </tr>\n    <tr>\n      <th>90618</th>\n      <td>0.570</td>\n      <td>0.490</td>\n      <td>0.145</td>\n      <td>0.8740</td>\n      <td>0.3525</td>\n      <td>0.1865</td>\n      <td>0.2350</td>\n      <td>0</td>\n      <td>0</td>\n      <td>1</td>\n      <td>0.666667</td>\n    </tr>\n    <tr>\n      <th>90619</th>\n      <td>0.415</td>\n      <td>0.325</td>\n      <td>0.110</td>\n      <td>0.3580</td>\n      <td>0.1575</td>\n      <td>0.0670</td>\n      <td>0.1050</td>\n      <td>0</td>\n      <td>1</td>\n      <td>0</td>\n      <td>0.666667</td>\n    </tr>\n  </tbody>\n</table>\n</div>"
     },
     "execution_count": 40,
     "metadata": {},
     "output_type": "execute_result"
    }
   ],
   "source": [
    "data[\"Volume\"] = data[\"Length\"] * data[\"Diameter\"] * data[\"Height\"]\n",
    "data[\"ShellRatio\"] = data[\"Shell_weight\"] / data[\"Shucked_weight\"]\n",
    "data = pd.get_dummies(data, columns=['Sex'], dtype=int)\n",
    "\n",
    "pred_data = pd.get_dummies(pred_data, columns=['Sex'], dtype=int)\n",
    "pred_data[\"ShellRatio\"] = pred_data[\"Shell_weight\"] / pred_data[\"Shucked_weight\"]\n",
    "data.head()\n",
    "pred_data.head()"
   ],
   "metadata": {
    "collapsed": false,
    "ExecuteTime": {
     "end_time": "2024-04-30T02:05:30.167311800Z",
     "start_time": "2024-04-30T02:05:30.140060700Z"
    }
   },
   "id": "34f83c6b7f1edd48"
  },
  {
   "cell_type": "code",
   "execution_count": null,
   "outputs": [],
   "source": [
    "# Height 有 0 值\n",
    "# data_encoded[\"Height\"] = data_encoded[\"Height\"].clip(upper=0.2,lower=0.02)\n",
    "data_encoded[\"Volume\"] = data_encoded[\"Length\"] * data_encoded[\"Diameter\"] * data_encoded[\"Height\"]\n",
    "# data_encoded[\"Density\"] = data_encoded[\"Shell_weight\"] / data_encoded[\"Volume\"]\n",
    "# data_encoded[\"AspectRatio\"] = data_encoded[\"Length\"] / data_encoded[\"Diameter\"]\n",
    "data_encoded[\"ShellRatio\"] = data_encoded[\"Shell_weight\"] / data_encoded[\"Shucked_weight\"]\n",
    "data_encoded.head()"
   ],
   "metadata": {
    "collapsed": false
   },
   "id": "5a0573408cd7d75e"
  },
  {
   "cell_type": "markdown",
   "source": [
    "计算相关性,最后结果只有体积和壳重比比较好。很奇怪，性别为什么相关性差，暂时保留"
   ],
   "metadata": {
    "collapsed": false
   },
   "id": "c3c41a374786dec9"
  },
  {
   "cell_type": "code",
   "execution_count": null,
   "outputs": [],
   "source": [
    "import matplotlib.pyplot as plt\n",
    "import seaborn as sns\n",
    "mask = np.triu(np.ones_like(data_encoded.corr()))\n",
    "plt.figure(figsize=(20,12))\n",
    "sns.heatmap(data_encoded.corr(), cmap=\"viridis_r\", annot=True, mask=mask,vmin=-1,vmax=1);"
   ],
   "metadata": {
    "collapsed": false
   },
   "id": "6d46e23e58b556a5"
  },
  {
   "cell_type": "code",
   "execution_count": 41,
   "outputs": [
    {
     "data": {
      "text/plain": "   Sex_F  Sex_M  Sex_I  Length  Diameter  Height  Whole_weight  \\\n0      1      0      0   0.550     0.430   0.150        0.7715   \n1      1      0      0   0.630     0.490   0.145        1.1300   \n2      0      0      1   0.160     0.110   0.025        0.0210   \n3      0      1      0   0.595     0.475   0.150        0.9145   \n4      0      0      1   0.555     0.425   0.130        0.7820   \n\n   Shucked_weight  Viscera_weight  Shell_weight  ShellRatio  \n0          0.3285          0.1465        0.2400    0.730594  \n1          0.4580          0.2765        0.3200    0.698690  \n2          0.0055          0.0030        0.0050    0.909091  \n3          0.3755          0.2055        0.2500    0.665779  \n4          0.3695          0.1600        0.1975    0.534506  ",
      "text/html": "<div>\n<style scoped>\n    .dataframe tbody tr th:only-of-type {\n        vertical-align: middle;\n    }\n\n    .dataframe tbody tr th {\n        vertical-align: top;\n    }\n\n    .dataframe thead th {\n        text-align: right;\n    }\n</style>\n<table border=\"1\" class=\"dataframe\">\n  <thead>\n    <tr style=\"text-align: right;\">\n      <th></th>\n      <th>Sex_F</th>\n      <th>Sex_M</th>\n      <th>Sex_I</th>\n      <th>Length</th>\n      <th>Diameter</th>\n      <th>Height</th>\n      <th>Whole_weight</th>\n      <th>Shucked_weight</th>\n      <th>Viscera_weight</th>\n      <th>Shell_weight</th>\n      <th>ShellRatio</th>\n    </tr>\n  </thead>\n  <tbody>\n    <tr>\n      <th>0</th>\n      <td>1</td>\n      <td>0</td>\n      <td>0</td>\n      <td>0.550</td>\n      <td>0.430</td>\n      <td>0.150</td>\n      <td>0.7715</td>\n      <td>0.3285</td>\n      <td>0.1465</td>\n      <td>0.2400</td>\n      <td>0.730594</td>\n    </tr>\n    <tr>\n      <th>1</th>\n      <td>1</td>\n      <td>0</td>\n      <td>0</td>\n      <td>0.630</td>\n      <td>0.490</td>\n      <td>0.145</td>\n      <td>1.1300</td>\n      <td>0.4580</td>\n      <td>0.2765</td>\n      <td>0.3200</td>\n      <td>0.698690</td>\n    </tr>\n    <tr>\n      <th>2</th>\n      <td>0</td>\n      <td>0</td>\n      <td>1</td>\n      <td>0.160</td>\n      <td>0.110</td>\n      <td>0.025</td>\n      <td>0.0210</td>\n      <td>0.0055</td>\n      <td>0.0030</td>\n      <td>0.0050</td>\n      <td>0.909091</td>\n    </tr>\n    <tr>\n      <th>3</th>\n      <td>0</td>\n      <td>1</td>\n      <td>0</td>\n      <td>0.595</td>\n      <td>0.475</td>\n      <td>0.150</td>\n      <td>0.9145</td>\n      <td>0.3755</td>\n      <td>0.2055</td>\n      <td>0.2500</td>\n      <td>0.665779</td>\n    </tr>\n    <tr>\n      <th>4</th>\n      <td>0</td>\n      <td>0</td>\n      <td>1</td>\n      <td>0.555</td>\n      <td>0.425</td>\n      <td>0.130</td>\n      <td>0.7820</td>\n      <td>0.3695</td>\n      <td>0.1600</td>\n      <td>0.1975</td>\n      <td>0.534506</td>\n    </tr>\n  </tbody>\n</table>\n</div>"
     },
     "execution_count": 41,
     "metadata": {},
     "output_type": "execute_result"
    }
   ],
   "source": [
    "# 原始：data\n",
    "# 独热编码:data_encoded\n",
    "# 2元编码：data_bin\n",
    "# 结论，独热编码效果最好\n",
    "features=['Sex_F', 'Sex_M', 'Sex_I', 'Length', 'Diameter', 'Height', 'Whole_weight', 'Shucked_weight', 'Viscera_weight', 'Shell_weight',  \"ShellRatio\"]\n",
    "X = data[features]\n",
    "y = data.Rings\n",
    "pred_data = pred_data[features]\n",
    "X.head()"
   ],
   "metadata": {
    "collapsed": false,
    "ExecuteTime": {
     "end_time": "2024-04-30T02:05:33.700972700Z",
     "start_time": "2024-04-30T02:05:33.688210400Z"
    }
   },
   "id": "8385dd9c38e026ff"
  },
  {
   "cell_type": "markdown",
   "source": [
    "# 模型部分"
   ],
   "metadata": {
    "collapsed": false
   },
   "id": "b0bfa6b1121dd1ca"
  },
  {
   "cell_type": "markdown",
   "source": [
    "三个baseline models\n",
    "xgboost,lightgbm,catboost"
   ],
   "metadata": {
    "collapsed": false
   },
   "id": "9cd95d61626faa55"
  },
  {
   "cell_type": "code",
   "execution_count": null,
   "outputs": [],
   "source": [
    "xgbmodel = xgb.XGBRegressor(random_state=42)\n",
    "print(\"CV RMSLE score of XGB is \",np.sqrt(-cross_val_score(xgbmodel,X,y,cv=4, scoring = 'neg_mean_squared_log_error').mean()))"
   ],
   "metadata": {
    "collapsed": false
   },
   "id": "2186cf2bf449c75b"
  },
  {
   "cell_type": "code",
   "execution_count": null,
   "outputs": [],
   "source": [
    "lgbmmodel = LGBMRegressor(random_state=42, verbose=-1)\n",
    "print(\"CV RMSLE score of LGBM is \",np.sqrt(-cross_val_score(lgbmmodel,X,y,cv=4, scoring = 'neg_mean_squared_log_error').mean()))"
   ],
   "metadata": {
    "collapsed": false
   },
   "id": "c71328755f93fc09"
  },
  {
   "cell_type": "code",
   "execution_count": null,
   "outputs": [],
   "source": [
    "catmodel = CatBoostRegressor(random_state=42, verbose=0)\n",
    "print(\"CV RMSLE score of CAT is \",np.sqrt(-cross_val_score(catmodel,X,y,cv=4, scoring = 'neg_mean_squared_log_error').mean()))"
   ],
   "metadata": {
    "collapsed": false
   },
   "id": "8f8c9aa1a23f78f4"
  },
  {
   "cell_type": "markdown",
   "source": [
    "# Optuna-Tuning Models"
   ],
   "metadata": {
    "collapsed": false
   },
   "id": "bce65dabf853a686"
  },
  {
   "cell_type": "markdown",
   "source": [
    "## XGBoost参数设置"
   ],
   "metadata": {
    "collapsed": false
   },
   "id": "2c306afbe89ff7cf"
  },
  {
   "cell_type": "code",
   "execution_count": null,
   "outputs": [],
   "source": [
    "# 自定义评分函数\n",
    "def rmsle(y_true, y_pred):\n",
    "    return np.sqrt(mean_squared_log_error(y_true, y_pred))\n",
    "\n",
    "# 创建评分对象\n",
    "rmsle_scorer = make_scorer(rmsle, greater_is_better=False)\n",
    "\n",
    "# 定义交叉验证策略\n",
    "kf = KFold(n_splits=4, shuffle=True, random_state=42)\n",
    "\n",
    "# 在Optuna的目标函数中使用交叉验证\n",
    "def xgb_objective(trial):\n",
    "    params = {\n",
    "        \"eta\": trial.suggest_float(\"eta\", 0.01, 1.0),\n",
    "        \"gamma\": 0.0,\n",
    "        \"max_depth\": trial.suggest_int(\"max_depth\", 3, 20),\n",
    "        \"min_child_weight\": trial.suggest_float(\"min_child_weight\", 1., 50.),\n",
    "        \"subsample\": trial.suggest_float(\"subsample\", 0.5, 1.0),\n",
    "        \"colsample_bytree\": trial.suggest_float(\"colsample_bytree\", 0.5, 1.0),\n",
    "        \"reg_lambda\": trial.suggest_float(\"lambda\", 1.0, 100.0),\n",
    "        \"n_estimators\": trial.suggest_int(\"n_estimators\", 100, 1000)\n",
    "    }\n",
    "    \n",
    "    xgb_reg = TransformedTargetRegressor(xgb.XGBRegressor(**params, objective='reg:squarederror', grow_policy='lossguide',\n",
    "                                                         tree_method=\"hist\", random_state=42),\n",
    "                                                         func=np.log1p,\n",
    "                                                         inverse_func=np.expm1)\n",
    "    # 使用交叉验证获取得分\n",
    "    val_scores = cross_val_score(xgb_reg, X, y, scoring=rmsle_scorer, cv=kf)\n",
    "\n",
    "    # 计算平均分数\n",
    "    avg_score = -np.mean(val_scores)\n",
    "    \n",
    "    return avg_score  # 因为rmsle_scorer中设置了greater_is_better=False，返回负的RMSLE分数，Optuna默认是越小越好\n",
    "\n",
    "sampler = optuna.samplers.TPESampler(seed=42)  # Using Tree-structured Parzen Estimator sampler for optimization\n",
    "xgb_study = optuna.create_study(direction = 'minimize', study_name=\"XgbRegressor\", sampler=sampler)"
   ],
   "metadata": {
    "collapsed": false
   },
   "id": "532ae44266b05315"
  },
  {
   "cell_type": "markdown",
   "source": [
    "第一个xgb模型"
   ],
   "metadata": {
    "collapsed": false
   },
   "id": "29fcd0f2f0927f02"
  },
  {
   "cell_type": "code",
   "execution_count": null,
   "outputs": [],
   "source": [
    "TUNE = True\n",
    "if TUNE:\n",
    "    xgb_study.optimize(xgb_objective, n_trials=500)"
   ],
   "metadata": {
    "collapsed": false
   },
   "id": "4ebb90feea417b13"
  },
  {
   "cell_type": "markdown",
   "source": [
    "\n",
    "Trial 103 finished with value: 0.1495461254456984 and parameters: {'eta': 0.02308361391151405, 'max_depth': 13, 'min_child_weight': 23.14406615585, 'subsample': 0.9345699075833176, 'colsample_bytree': 0.6061293579178482, 'lambda': 56.965196488197826, 'n_estimators': 896}. Best is trial 103 with value: 0.1495461254456984.\n",
    "\n",
    "Trial 366 finished with value: 0.14938249893623345 and parameters: {'eta': 0.04442469791266492, 'max_depth': 8, 'min_child_weight': 36.973745700412756, 'subsample': 0.9581189396751842, 'colsample_bytree': 0.5318303726053835, 'lambda': 24.509386010454058, 'n_estimators': 765}. Best is trial 366 with value: 0.14938249893623345.\n",
    "\n",
    "Trial 382 finished with value: 0.14934930132564278 and parameters: {'eta': 0.04823193022921833, 'max_depth': 8, 'min_child_weight': 26.58149097015466, 'subsample': 0.9432300524707186, 'colsample_bytree': 0.5265780725732072, 'lambda': 32.855491079399506, 'n_estimators': 841}. Best is trial 382 with value: 0.14934930132564278.\n",
    "网站：\n",
    "    'eta': 0.1006321838798394,\n",
    "    'max_depth': 6,\n",
    "    'min_child_weight': 27.999752791085136,\n",
    "    'subsample': 0.7344797943645852,\n",
    "    'colsample_bytree': 0.5389765810810496,\n",
    "    'lambda': 79.62358968148187,\n",
    "    'n_estimators': 407\n",
    "    \n",
    "xgb_best_params_2 = {\n",
    "    'eta': 0.08999645298052271,\n",
    "    'max_depth': 6,\n",
    "    'min_child_weight': 2.088127882610971,\n",
    "    'subsample': 0.7725806961689413,\n",
    "    'colsample_bytree': 0.9163306027660207,\n",
    "    'lambda': 5.356530752285997,\n",
    "    'n_estimators': 652\n",
    "}"
   ],
   "metadata": {
    "collapsed": false
   },
   "id": "cf7294fd4d973c63"
  },
  {
   "cell_type": "code",
   "execution_count": null,
   "outputs": [],
   "source": [
    "print(xgb_study.best_params)"
   ],
   "metadata": {
    "collapsed": false
   },
   "id": "cce53b6264ba1845"
  },
  {
   "cell_type": "code",
   "execution_count": 42,
   "outputs": [],
   "source": [
    "xgb_best_params_1 = {\n",
    "'eta': 0.04823193022921833, 'max_depth': 8, 'min_child_weight': 26.58149097015466, 'subsample': 0.9432300524707186, 'colsample_bytree': 0.5265780725732072, 'lambda': 32.855491079399506, 'n_estimators': 841\n",
    "}"
   ],
   "metadata": {
    "collapsed": false,
    "ExecuteTime": {
     "end_time": "2024-04-30T02:05:39.213027600Z",
     "start_time": "2024-04-30T02:05:39.207134500Z"
    }
   },
   "id": "96d915e8ff59ba1f"
  },
  {
   "cell_type": "code",
   "execution_count": 43,
   "outputs": [],
   "source": [
    "xgb_reg_1 = TransformedTargetRegressor(xgb.XGBRegressor(**xgb_best_params_1, objective='reg:squarederror', grow_policy='lossguide',\n",
    "                                                 tree_method=\"hist\", random_state=42, gamma=0.0),\n",
    "                                                 func=np.log1p,\n",
    "                                                 inverse_func=np.expm1)"
   ],
   "metadata": {
    "collapsed": false,
    "ExecuteTime": {
     "end_time": "2024-04-30T02:05:41.028036700Z",
     "start_time": "2024-04-30T02:05:41.021594300Z"
    }
   },
   "id": "4f32efb1d63a401b"
  },
  {
   "cell_type": "code",
   "execution_count": null,
   "outputs": [],
   "source": [
    "print(\"CV RMSLE score of xgb_reg_1 is \",np.sqrt(-cross_val_score(xgb_reg_1,X,y,cv=4, scoring = 'neg_mean_squared_log_error').mean()))"
   ],
   "metadata": {
    "collapsed": false
   },
   "id": "c2aed1ce83022dd4"
  },
  {
   "cell_type": "code",
   "execution_count": null,
   "outputs": [],
   "source": [
    "X_train, X_test, y_train, y_test = train_test_split(X, y, test_size=0.3, random_state=42, stratify=y)\n",
    "X_valid, X_test, y_valid, y_test = train_test_split(X_test, y_test, test_size=0.5, random_state=42, stratify=y_test)"
   ],
   "metadata": {
    "collapsed": false
   },
   "id": "7fbe9e469b9c5a5e"
  },
  {
   "cell_type": "code",
   "execution_count": null,
   "outputs": [],
   "source": [
    "xgb_reg_train_1 = TransformedTargetRegressor(xgb.XGBRegressor(**xgb_best_params_1, objective='reg:squarederror', grow_policy='lossguide',\n",
    "                                                 tree_method=\"hist\", random_state=42, gamma=0.0),\n",
    "                                                 func=np.log1p,\n",
    "                                                 inverse_func=np.expm1)\n",
    "xgb_reg_train_1.fit(X_train, y_train)"
   ],
   "metadata": {
    "collapsed": false
   },
   "id": "26d1b267aab878c"
  },
  {
   "cell_type": "code",
   "execution_count": null,
   "outputs": [],
   "source": [
    "xgb_reg_1.fit(X, y)"
   ],
   "metadata": {
    "collapsed": false
   },
   "id": "98f39a9e70c0cc71"
  },
  {
   "cell_type": "code",
   "execution_count": null,
   "outputs": [],
   "source": [
    "mean_squared_log_error(y_valid, xgb_reg_train_1.predict(X_valid), squared=False)"
   ],
   "metadata": {
    "collapsed": false
   },
   "id": "a493e6137d0f4965"
  },
  {
   "cell_type": "code",
   "execution_count": null,
   "outputs": [],
   "source": [
    "feature_importance = xgb_reg_train_1.regressor_.feature_importances_\n",
    "feature_names = X.columns\n",
    "\n",
    "sorted_indices = feature_importance.argsort()\n",
    "sorted_importance = feature_importance[sorted_indices]\n",
    "sorted_features = feature_names[sorted_indices]\n",
    "\n",
    "plt.figure(figsize=(10, 6))\n",
    "colors = plt.cm.tab20c.colors[:len(sorted_features)]  \n",
    "plt.barh(sorted_features, sorted_importance, color=colors)\n",
    "plt.xlabel('Importance')\n",
    "plt.ylabel('Feature')\n",
    "plt.title('XGBoost Feature Importance')\n",
    "plt.gca().invert_yaxis() \n",
    "plt.tight_layout()  \n",
    "plt.show()"
   ],
   "metadata": {
    "collapsed": false
   },
   "id": "8100c0ca03e43f2d"
  },
  {
   "cell_type": "markdown",
   "source": [
    "## LightGBM"
   ],
   "metadata": {
    "collapsed": false
   },
   "id": "cff7cb1d1b201307"
  },
  {
   "cell_type": "code",
   "execution_count": null,
   "outputs": [],
   "source": [
    "def lgbm_objective(trial):\n",
    "    # Define parameters to be optimized for the LGBMClassifier\n",
    "    param = {\n",
    "        \"verbosity\": -1,\n",
    "        \"random_state\": 42,\n",
    "        \"learning_rate\": trial.suggest_float(\"learning_rate\", 0.01, 0.05),\n",
    "        \"n_estimators\": trial.suggest_int(\"n_estimators\", 400, 1000),\n",
    "        \"lambda_l1\": trial.suggest_float(\"lambda_l1\", 0.005, 0.015),\n",
    "        \"lambda_l2\": trial.suggest_float(\"lambda_l2\", 0.02, 0.06),\n",
    "        \"max_depth\": trial.suggest_int(\"max_depth\", 6, 14),\n",
    "        \"colsample_bytree\": trial.suggest_float(\"colsample_bytree\", 0.3, 0.9),\n",
    "        \"subsample\": trial.suggest_float(\"subsample\", 0.8, 1.0),\n",
    "        \"min_child_samples\": trial.suggest_int(\"min_child_samples\", 10, 70),\n",
    "        \"num_leaves\": trial.suggest_int(\"num_leaves\", 30, 100),\n",
    "        \"min_split_gain\": trial.suggest_float(\"min_split_gain\", 0.1, 1.0)\n",
    "    }\n",
    "    \n",
    "    lgb_reg = LGBMRegressor(**param)\n",
    "    # 使用交叉验证获取得分\n",
    "    val_scores = cross_val_score(lgb_reg, X, y, scoring=rmsle_scorer, cv=kf)\n",
    "\n",
    "    # 计算平均分数\n",
    "    avg_score = -np.mean(val_scores)\n",
    "    \n",
    "    return avg_score  # 因为rmsle_scorer中设置了greater_is_better=False，返回负的RMSLE分数，Optuna默认是越小越好\n",
    "    \n",
    "\n",
    "# Set up the sampler for Optuna optimization\n",
    "sampler = optuna.samplers.TPESampler(seed=42)  # Using Tree-structured Parzen Estimator sampler for optimization\n",
    "\n",
    "# Create a study object for Optuna optimization\n",
    "lgbm_study = optuna.create_study(direction=\"minimize\", sampler=sampler)"
   ],
   "metadata": {
    "collapsed": false
   },
   "id": "693c85b9c7db942a"
  },
  {
   "cell_type": "code",
   "execution_count": null,
   "outputs": [],
   "source": [
    "if TUNE:\n",
    "    # Run the optimization process\n",
    "    lgbm_study.optimize(lambda trial: lgbm_objective(trial), n_trials=200)\n",
    "\n",
    "    # Get the best parameters after optimization\n",
    "    lgbm_best_params = lgbm_study.best_params\n",
    "\n",
    "    print('='*50)\n",
    "    print(lgbm_best_params)"
   ],
   "metadata": {
    "collapsed": false
   },
   "id": "8d6b88a898ae887e"
  },
  {
   "cell_type": "code",
   "execution_count": 44,
   "outputs": [],
   "source": [
    "lgb_params_1 = {\n",
    "    'learning_rate': 0.03145145630381439,\n",
    "    'n_estimators': 996,\n",
    "    'reg_lambda': 0.009005545129316126,\n",
    "    'reg_alpha': 0.03519849993125654,\n",
    "    'max_depth': 12,\n",
    "    'colsample_bytree': 0.4436804582753455,\n",
    "    'subsample': 0.8435839525805869,\n",
    "    'min_child_samples': 54,\n",
    "    'num_leaves': 59,\n",
    "    'random_state': 42,\n",
    "    'n_jobs': -1,\n",
    "    'verbose': -1\n",
    "}"
   ],
   "metadata": {
    "collapsed": false,
    "ExecuteTime": {
     "end_time": "2024-04-30T02:05:47.559995700Z",
     "start_time": "2024-04-30T02:05:47.553281800Z"
    }
   },
   "id": "6f811d40eecf2663"
  },
  {
   "cell_type": "code",
   "execution_count": 45,
   "outputs": [],
   "source": [
    "lgb_reg_1 = TransformedTargetRegressor(LGBMRegressor(**lgb_params_1),\n",
    "                                                 func=np.log1p,\n",
    "                                                 inverse_func=np.expm1)"
   ],
   "metadata": {
    "collapsed": false,
    "ExecuteTime": {
     "end_time": "2024-04-30T02:05:48.134488700Z",
     "start_time": "2024-04-30T02:05:48.128644800Z"
    }
   },
   "id": "2adba89ab280abf2"
  },
  {
   "cell_type": "code",
   "execution_count": null,
   "outputs": [],
   "source": [
    "print(\"CV RMSLE score of lgb_reg_1 is \",np.sqrt(-cross_val_score(lgb_reg_1,X,y,cv=4, scoring = 'neg_mean_squared_log_error').mean()))"
   ],
   "metadata": {
    "collapsed": false
   },
   "id": "93c87468c2dc32de"
  },
  {
   "cell_type": "code",
   "execution_count": null,
   "outputs": [],
   "source": [
    "lgb_reg_1.fit(X ,y)\n",
    "mean_squared_log_error(y_valid, lgb_reg_1.predict(X_valid), squared=False)"
   ],
   "metadata": {
    "collapsed": false
   },
   "id": "abd4f43e3ac62bc5"
  },
  {
   "cell_type": "code",
   "execution_count": null,
   "outputs": [],
   "source": [
    "feature_importance = lgb_reg_1.regressor_.feature_importances_\n",
    "\n",
    "feature_names = X_train.columns\n",
    "\n",
    "sorted_indices = feature_importance.argsort()\n",
    "sorted_importance = feature_importance[sorted_indices]\n",
    "sorted_features = feature_names[sorted_indices]\n",
    "\n",
    "# Plot feature importance\n",
    "plt.figure(figsize=(12, 8))\n",
    "colors = plt.cm.Paired.colors[:len(sorted_features)]  \n",
    "plt.barh(sorted_features, sorted_importance, color=colors)\n",
    "plt.xlabel('Importance', fontsize=12)\n",
    "plt.ylabel('Feature', fontsize=12)\n",
    "plt.title('LightGBM Feature Importance', fontsize=14)\n",
    "plt.gca().invert_yaxis() \n",
    "\n",
    "for i, v in enumerate(sorted_importance):\n",
    "    plt.text(v + 0.02, i, f'{v:.2f}', color='black', va='center', fontsize=10)\n",
    "\n",
    "plt.tight_layout()  \n",
    "plt.show()"
   ],
   "metadata": {
    "collapsed": false
   },
   "id": "db4716b7ef9b27c2"
  },
  {
   "cell_type": "markdown",
   "source": [
    "## catboost"
   ],
   "metadata": {
    "collapsed": false
   },
   "id": "737d19b71ee50c6d"
  },
  {
   "cell_type": "code",
   "execution_count": null,
   "outputs": [],
   "source": [
    "def cb_objective(trial):\n",
    "    param = {\n",
    "        \"learning_rate\": trial.suggest_float(\"learning_rate\", 0.01, 0.5),\n",
    "        \"max_depth\": trial.suggest_int(\"depth\", 4, 16),\n",
    "        \"l2_leaf_reg\": trial.suggest_float(\"l2_leaf_reg\", 1, 10),\n",
    "        \"n_estimators\": trial.suggest_int(\"n_estimators\", 100, 1500),\n",
    "        \"colsample_bylevel\": trial.suggest_float(\"colsample_bylevel\", 0.5, 1.0),\n",
    "    }\n",
    "    \n",
    "    cb_reg = TransformedTargetRegressor(CatBoostRegressor(**param, random_state=42, grow_policy='SymmetricTree',\n",
    "                                                                  random_strength=0, cat_features=[\"Sex\"], loss_function=\"RMSE\"),\n",
    "                                                     func=np.log1p,\n",
    "                                                     inverse_func=np.expm1)\n",
    "    cb_reg = CatBoostRegressor(**param)\n",
    "    # 使用交叉验证获取得分\n",
    "    val_scores = cross_val_score(cb_reg, X, y, scoring=rmsle_scorer, cv=kf)\n",
    "\n",
    "    # 计算平均分数\n",
    "    avg_score = -np.mean(val_scores)\n",
    "    \n",
    "    return avg_score  # 因为rmsle_scorer中设置了greater_is_better=False，返回负的RMSLE分数，Optuna默认是越小越好\n",
    "\n",
    "sampler = optuna.samplers.TPESampler(seed=42)  # Using Tree-structured Parzen Estimator sampler for optimization\n",
    "cb_study = optuna.create_study(direction = 'minimize',study_name=\"CBRegressor\", sampler=sampler)"
   ],
   "metadata": {
    "collapsed": false
   },
   "id": "4ce25a411b2c9c17"
  },
  {
   "cell_type": "code",
   "execution_count": null,
   "outputs": [],
   "source": [
    "if TUNE:\n",
    "    cb_study.optimize(cb_objective, n_trials=30)"
   ],
   "metadata": {
    "collapsed": false
   },
   "id": "b194383b45a465a3"
  },
  {
   "cell_type": "code",
   "execution_count": null,
   "outputs": [],
   "source": [
    "print(cb_study.best_params)"
   ],
   "metadata": {
    "collapsed": false
   },
   "id": "854ddbffa958c6f0"
  },
  {
   "cell_type": "code",
   "execution_count": 64,
   "outputs": [],
   "source": [
    "cb_params_1 = {\n",
    "    'depth': 6, \n",
    "    'n_estimators': 1233,\n",
    "    'max_bin': 464, \n",
    "    'verbose': False,\n",
    "    'task_type': 'CPU', \n",
    "    'random_state': 42,\n",
    "    'min_data_in_leaf': 78, \n",
    "    'loss_function': 'RMSE', \n",
    "    'grow_policy': 'Lossguide', \n",
    "    'bootstrap_type': 'Bernoulli', \n",
    "    'subsample': 0.83862137638162, \n",
    "    'l2_leaf_reg': 2.515448552080745, \n",
    "    'random_strength': 3.296124856352495, \n",
    "    'learning_rate': 0.06756562836526186,\n",
    "    'colsample_bylevel': 0.5050897334022381\n",
    "    }"
   ],
   "metadata": {
    "collapsed": false,
    "ExecuteTime": {
     "end_time": "2024-04-30T02:29:06.703620200Z",
     "start_time": "2024-04-30T02:29:06.699925600Z"
    }
   },
   "id": "d4f2b684557e0f1c"
  },
  {
   "cell_type": "code",
   "execution_count": 65,
   "outputs": [],
   "source": [
    "cat_reg_1 = TransformedTargetRegressor(CatBoostRegressor(**cb_params_1),\n",
    "                                                 func=np.log1p,\n",
    "                                                 inverse_func=np.expm1)"
   ],
   "metadata": {
    "collapsed": false,
    "ExecuteTime": {
     "end_time": "2024-04-30T02:29:07.722019200Z",
     "start_time": "2024-04-30T02:29:07.715141200Z"
    }
   },
   "id": "6d1a1ba0b33ae88a"
  },
  {
   "cell_type": "code",
   "execution_count": null,
   "outputs": [],
   "source": [
    "print(\"CV RMSLE score of cb_reg_1 is \",np.sqrt(-cross_val_score(cat_reg_1,X,y,cv=4, scoring = 'neg_mean_squared_log_error').mean()))"
   ],
   "metadata": {
    "collapsed": false
   },
   "id": "bba93bb1d3bcd09f"
  },
  {
   "cell_type": "code",
   "execution_count": null,
   "outputs": [],
   "source": [
    "#cat_reg_1.fit(X_train, y_train)"
   ],
   "metadata": {
    "collapsed": false
   },
   "id": "b32749aeda8dcc15"
  },
  {
   "cell_type": "code",
   "execution_count": null,
   "outputs": [],
   "source": [
    "cat_reg_1.fit(X, y)"
   ],
   "metadata": {
    "collapsed": false
   },
   "id": "643e468f5979ba93"
  },
  {
   "cell_type": "code",
   "execution_count": null,
   "outputs": [],
   "source": [
    "mean_squared_log_error(y_valid, cat_reg_1.predict(X_valid), squared=False)"
   ],
   "metadata": {
    "collapsed": false
   },
   "id": "ccac1ab58619f96c"
  },
  {
   "cell_type": "markdown",
   "source": [
    "# Ensembling the Results Using VotingRegressor 使用 VotingRegressor 组合结果"
   ],
   "metadata": {
    "collapsed": false
   },
   "id": "784b80636dc11649"
  },
  {
   "cell_type": "markdown",
   "source": [
    "结论： 模型之前是否被fit好像不影响VotingRegressor,都是重新训练，想要不同fit，估计只能手动"
   ],
   "metadata": {
    "collapsed": false
   },
   "id": "649aaf0e480b32a1"
  },
  {
   "cell_type": "code",
   "execution_count": 88,
   "outputs": [],
   "source": [
    "ensemble = VotingRegressor(\n",
    "    [\n",
    "        (\"xgb\", xgb_reg_1),\n",
    "        (\"lgb\", lgb_reg_1),\n",
    "        (\"cb\", cat_reg_1)\n",
    "    ],\n",
    "    weights = [0.5,7,5]\n",
    ")"
   ],
   "metadata": {
    "collapsed": false,
    "ExecuteTime": {
     "end_time": "2024-04-30T02:47:16.183392900Z",
     "start_time": "2024-04-30T02:47:16.178212200Z"
    }
   },
   "id": "e4393971900b0b5"
  },
  {
   "cell_type": "code",
   "execution_count": 89,
   "outputs": [
    {
     "name": "stdout",
     "output_type": "stream",
     "text": [
      "CV RMSLE score of Voting is  0.14858789402188152\n"
     ]
    }
   ],
   "source": [
    "print(\"CV RMSLE score of Voting is \",np.sqrt(-cross_val_score(ensemble,X,y,cv=4, scoring = 'neg_mean_squared_log_error').mean()))"
   ],
   "metadata": {
    "collapsed": false,
    "ExecuteTime": {
     "end_time": "2024-04-30T02:48:16.420016400Z",
     "start_time": "2024-04-30T02:47:17.363082700Z"
    }
   },
   "id": "2382419f254a5933"
  },
  {
   "cell_type": "markdown",
   "source": [
    "CV RMSLE score of Voting is  0.14865622715961396\n",
    "CV RMSLE score of Voting is  0.14860084152435413    0\n",
    "CV RMSLE score of Voting is  0.1486001776245108     0.1\n",
    "CV RMSLE score of Voting is  0.14860172196721919    1\n",
    "CV RMSLE score of Voting is  0.14859935044655118    0.5\n",
    "CV RMSLE score of Voting is  0.14859088992627328    0.5 6 5\n",
    "CV RMSLE score of Voting is  0.14858789402188152    0.5 7 5 √\n",
    "CV RMSLE score of Voting is  0.14858830039271614    0.5 8 5\n",
    "CV RMSLE score of Voting is  0.14882257726172574    0 1 0"
   ],
   "metadata": {
    "collapsed": false
   },
   "id": "68a8c3963f244602"
  },
  {
   "cell_type": "code",
   "execution_count": 90,
   "outputs": [
    {
     "data": {
      "text/plain": "VotingRegressor(estimators=[('xgb',\n                             TransformedTargetRegressor(func=<ufunc 'log1p'>,\n                                                        inverse_func=<ufunc 'expm1'>,\n                                                        regressor=XGBRegressor(base_score=None,\n                                                                               booster=None,\n                                                                               callbacks=None,\n                                                                               colsample_bylevel=None,\n                                                                               colsample_bynode=None,\n                                                                               colsample_bytree=0.5265780725732072,\n                                                                               early_stopping_rounds=None,\n                                                                               enable_categorical=False,\n                                                                               eta=0.04823193022921833,\n                                                                               eval_metric=None...\n                                                                                min_child_samples=54,\n                                                                                n_estimators=996,\n                                                                                n_jobs=-1,\n                                                                                num_leaves=59,\n                                                                                random_state=42,\n                                                                                reg_alpha=0.03519849993125654,\n                                                                                reg_lambda=0.009005545129316126,\n                                                                                subsample=0.8435839525805869,\n                                                                                verbose=-1))),\n                            ('cb',\n                             TransformedTargetRegressor(func=<ufunc 'log1p'>,\n                                                        inverse_func=<ufunc 'expm1'>,\n                                                        regressor=<catboost.core.CatBoostRegressor object at 0x00000258D29FBDD0>))],\n                weights=[0.5, 7, 5])",
      "text/html": "<style>#sk-container-id-3 {color: black;background-color: white;}#sk-container-id-3 pre{padding: 0;}#sk-container-id-3 div.sk-toggleable {background-color: white;}#sk-container-id-3 label.sk-toggleable__label {cursor: pointer;display: block;width: 100%;margin-bottom: 0;padding: 0.3em;box-sizing: border-box;text-align: center;}#sk-container-id-3 label.sk-toggleable__label-arrow:before {content: \"▸\";float: left;margin-right: 0.25em;color: #696969;}#sk-container-id-3 label.sk-toggleable__label-arrow:hover:before {color: black;}#sk-container-id-3 div.sk-estimator:hover label.sk-toggleable__label-arrow:before {color: black;}#sk-container-id-3 div.sk-toggleable__content {max-height: 0;max-width: 0;overflow: hidden;text-align: left;background-color: #f0f8ff;}#sk-container-id-3 div.sk-toggleable__content pre {margin: 0.2em;color: black;border-radius: 0.25em;background-color: #f0f8ff;}#sk-container-id-3 input.sk-toggleable__control:checked~div.sk-toggleable__content {max-height: 200px;max-width: 100%;overflow: auto;}#sk-container-id-3 input.sk-toggleable__control:checked~label.sk-toggleable__label-arrow:before {content: \"▾\";}#sk-container-id-3 div.sk-estimator input.sk-toggleable__control:checked~label.sk-toggleable__label {background-color: #d4ebff;}#sk-container-id-3 div.sk-label input.sk-toggleable__control:checked~label.sk-toggleable__label {background-color: #d4ebff;}#sk-container-id-3 input.sk-hidden--visually {border: 0;clip: rect(1px 1px 1px 1px);clip: rect(1px, 1px, 1px, 1px);height: 1px;margin: -1px;overflow: hidden;padding: 0;position: absolute;width: 1px;}#sk-container-id-3 div.sk-estimator {font-family: monospace;background-color: #f0f8ff;border: 1px dotted black;border-radius: 0.25em;box-sizing: border-box;margin-bottom: 0.5em;}#sk-container-id-3 div.sk-estimator:hover {background-color: #d4ebff;}#sk-container-id-3 div.sk-parallel-item::after {content: \"\";width: 100%;border-bottom: 1px solid gray;flex-grow: 1;}#sk-container-id-3 div.sk-label:hover label.sk-toggleable__label {background-color: #d4ebff;}#sk-container-id-3 div.sk-serial::before {content: \"\";position: absolute;border-left: 1px solid gray;box-sizing: border-box;top: 0;bottom: 0;left: 50%;z-index: 0;}#sk-container-id-3 div.sk-serial {display: flex;flex-direction: column;align-items: center;background-color: white;padding-right: 0.2em;padding-left: 0.2em;position: relative;}#sk-container-id-3 div.sk-item {position: relative;z-index: 1;}#sk-container-id-3 div.sk-parallel {display: flex;align-items: stretch;justify-content: center;background-color: white;position: relative;}#sk-container-id-3 div.sk-item::before, #sk-container-id-3 div.sk-parallel-item::before {content: \"\";position: absolute;border-left: 1px solid gray;box-sizing: border-box;top: 0;bottom: 0;left: 50%;z-index: -1;}#sk-container-id-3 div.sk-parallel-item {display: flex;flex-direction: column;z-index: 1;position: relative;background-color: white;}#sk-container-id-3 div.sk-parallel-item:first-child::after {align-self: flex-end;width: 50%;}#sk-container-id-3 div.sk-parallel-item:last-child::after {align-self: flex-start;width: 50%;}#sk-container-id-3 div.sk-parallel-item:only-child::after {width: 0;}#sk-container-id-3 div.sk-dashed-wrapped {border: 1px dashed gray;margin: 0 0.4em 0.5em 0.4em;box-sizing: border-box;padding-bottom: 0.4em;background-color: white;}#sk-container-id-3 div.sk-label label {font-family: monospace;font-weight: bold;display: inline-block;line-height: 1.2em;}#sk-container-id-3 div.sk-label-container {text-align: center;}#sk-container-id-3 div.sk-container {/* jupyter's `normalize.less` sets `[hidden] { display: none; }` but bootstrap.min.css set `[hidden] { display: none !important; }` so we also need the `!important` here to be able to override the default hidden behavior on the sphinx rendered scikit-learn.org. See: https://github.com/scikit-learn/scikit-learn/issues/21755 */display: inline-block !important;position: relative;}#sk-container-id-3 div.sk-text-repr-fallback {display: none;}</style><div id=\"sk-container-id-3\" class=\"sk-top-container\"><div class=\"sk-text-repr-fallback\"><pre>VotingRegressor(estimators=[(&#x27;xgb&#x27;,\n                             TransformedTargetRegressor(func=&lt;ufunc &#x27;log1p&#x27;&gt;,\n                                                        inverse_func=&lt;ufunc &#x27;expm1&#x27;&gt;,\n                                                        regressor=XGBRegressor(base_score=None,\n                                                                               booster=None,\n                                                                               callbacks=None,\n                                                                               colsample_bylevel=None,\n                                                                               colsample_bynode=None,\n                                                                               colsample_bytree=0.5265780725732072,\n                                                                               early_stopping_rounds=None,\n                                                                               enable_categorical=False,\n                                                                               eta=0.04823193022921833,\n                                                                               eval_metric=None...\n                                                                                min_child_samples=54,\n                                                                                n_estimators=996,\n                                                                                n_jobs=-1,\n                                                                                num_leaves=59,\n                                                                                random_state=42,\n                                                                                reg_alpha=0.03519849993125654,\n                                                                                reg_lambda=0.009005545129316126,\n                                                                                subsample=0.8435839525805869,\n                                                                                verbose=-1))),\n                            (&#x27;cb&#x27;,\n                             TransformedTargetRegressor(func=&lt;ufunc &#x27;log1p&#x27;&gt;,\n                                                        inverse_func=&lt;ufunc &#x27;expm1&#x27;&gt;,\n                                                        regressor=&lt;catboost.core.CatBoostRegressor object at 0x00000258D29FBDD0&gt;))],\n                weights=[0.5, 7, 5])</pre><b>In a Jupyter environment, please rerun this cell to show the HTML representation or trust the notebook. <br />On GitHub, the HTML representation is unable to render, please try loading this page with nbviewer.org.</b></div><div class=\"sk-container\" hidden><div class=\"sk-item sk-dashed-wrapped\"><div class=\"sk-label-container\"><div class=\"sk-label sk-toggleable\"><input class=\"sk-toggleable__control sk-hidden--visually\" id=\"sk-estimator-id-7\" type=\"checkbox\" ><label for=\"sk-estimator-id-7\" class=\"sk-toggleable__label sk-toggleable__label-arrow\">VotingRegressor</label><div class=\"sk-toggleable__content\"><pre>VotingRegressor(estimators=[(&#x27;xgb&#x27;,\n                             TransformedTargetRegressor(func=&lt;ufunc &#x27;log1p&#x27;&gt;,\n                                                        inverse_func=&lt;ufunc &#x27;expm1&#x27;&gt;,\n                                                        regressor=XGBRegressor(base_score=None,\n                                                                               booster=None,\n                                                                               callbacks=None,\n                                                                               colsample_bylevel=None,\n                                                                               colsample_bynode=None,\n                                                                               colsample_bytree=0.5265780725732072,\n                                                                               early_stopping_rounds=None,\n                                                                               enable_categorical=False,\n                                                                               eta=0.04823193022921833,\n                                                                               eval_metric=None...\n                                                                                min_child_samples=54,\n                                                                                n_estimators=996,\n                                                                                n_jobs=-1,\n                                                                                num_leaves=59,\n                                                                                random_state=42,\n                                                                                reg_alpha=0.03519849993125654,\n                                                                                reg_lambda=0.009005545129316126,\n                                                                                subsample=0.8435839525805869,\n                                                                                verbose=-1))),\n                            (&#x27;cb&#x27;,\n                             TransformedTargetRegressor(func=&lt;ufunc &#x27;log1p&#x27;&gt;,\n                                                        inverse_func=&lt;ufunc &#x27;expm1&#x27;&gt;,\n                                                        regressor=&lt;catboost.core.CatBoostRegressor object at 0x00000258D29FBDD0&gt;))],\n                weights=[0.5, 7, 5])</pre></div></div></div><div class=\"sk-parallel\"><div class=\"sk-parallel-item\"><div class=\"sk-item\"><div class=\"sk-label-container\"><div class=\"sk-label sk-toggleable\"><label>xgb</label></div></div><div class=\"sk-serial\"><div class=\"sk-item sk-dashed-wrapped\"><div class=\"sk-parallel\"><div class=\"sk-parallel-item\"><div class=\"sk-item\"><div class=\"sk-label-container\"><div class=\"sk-label sk-toggleable\"><input class=\"sk-toggleable__control sk-hidden--visually\" id=\"sk-estimator-id-8\" type=\"checkbox\" ><label for=\"sk-estimator-id-8\" class=\"sk-toggleable__label sk-toggleable__label-arrow\">regressor: XGBRegressor</label><div class=\"sk-toggleable__content\"><pre>XGBRegressor(base_score=None, booster=None, callbacks=None,\n             colsample_bylevel=None, colsample_bynode=None,\n             colsample_bytree=0.5265780725732072, early_stopping_rounds=None,\n             enable_categorical=False, eta=0.04823193022921833,\n             eval_metric=None, feature_types=None, gamma=0.0, gpu_id=None,\n             grow_policy=&#x27;lossguide&#x27;, importance_type=None,\n             interaction_constraints=None, lambda=32.855491079399506,\n             learning_rate=None, max_bin=None, max_cat_threshold=None,\n             max_cat_to_onehot=None, max_delta_step=None, max_depth=8,\n             max_leaves=None, min_child_weight=26.58149097015466, missing=nan,\n             monotone_constraints=None, n_estimators=841, n_jobs=None,\n             num_parallel_tree=None, ...)</pre></div></div></div><div class=\"sk-serial\"><div class=\"sk-item\"><div class=\"sk-estimator sk-toggleable\"><input class=\"sk-toggleable__control sk-hidden--visually\" id=\"sk-estimator-id-9\" type=\"checkbox\" ><label for=\"sk-estimator-id-9\" class=\"sk-toggleable__label sk-toggleable__label-arrow\">XGBRegressor</label><div class=\"sk-toggleable__content\"><pre>XGBRegressor(base_score=None, booster=None, callbacks=None,\n             colsample_bylevel=None, colsample_bynode=None,\n             colsample_bytree=0.5265780725732072, early_stopping_rounds=None,\n             enable_categorical=False, eta=0.04823193022921833,\n             eval_metric=None, feature_types=None, gamma=0.0, gpu_id=None,\n             grow_policy=&#x27;lossguide&#x27;, importance_type=None,\n             interaction_constraints=None, lambda=32.855491079399506,\n             learning_rate=None, max_bin=None, max_cat_threshold=None,\n             max_cat_to_onehot=None, max_delta_step=None, max_depth=8,\n             max_leaves=None, min_child_weight=26.58149097015466, missing=nan,\n             monotone_constraints=None, n_estimators=841, n_jobs=None,\n             num_parallel_tree=None, ...)</pre></div></div></div></div></div></div></div></div></div></div></div><div class=\"sk-parallel-item\"><div class=\"sk-item\"><div class=\"sk-label-container\"><div class=\"sk-label sk-toggleable\"><label>lgb</label></div></div><div class=\"sk-serial\"><div class=\"sk-item sk-dashed-wrapped\"><div class=\"sk-parallel\"><div class=\"sk-parallel-item\"><div class=\"sk-item\"><div class=\"sk-label-container\"><div class=\"sk-label sk-toggleable\"><input class=\"sk-toggleable__control sk-hidden--visually\" id=\"sk-estimator-id-10\" type=\"checkbox\" ><label for=\"sk-estimator-id-10\" class=\"sk-toggleable__label sk-toggleable__label-arrow\">regressor: LGBMRegressor</label><div class=\"sk-toggleable__content\"><pre>LGBMRegressor(colsample_bytree=0.4436804582753455,\n              learning_rate=0.03145145630381439, max_depth=12,\n              min_child_samples=54, n_estimators=996, n_jobs=-1, num_leaves=59,\n              random_state=42, reg_alpha=0.03519849993125654,\n              reg_lambda=0.009005545129316126, subsample=0.8435839525805869,\n              verbose=-1)</pre></div></div></div><div class=\"sk-serial\"><div class=\"sk-item\"><div class=\"sk-estimator sk-toggleable\"><input class=\"sk-toggleable__control sk-hidden--visually\" id=\"sk-estimator-id-11\" type=\"checkbox\" ><label for=\"sk-estimator-id-11\" class=\"sk-toggleable__label sk-toggleable__label-arrow\">LGBMRegressor</label><div class=\"sk-toggleable__content\"><pre>LGBMRegressor(colsample_bytree=0.4436804582753455,\n              learning_rate=0.03145145630381439, max_depth=12,\n              min_child_samples=54, n_estimators=996, n_jobs=-1, num_leaves=59,\n              random_state=42, reg_alpha=0.03519849993125654,\n              reg_lambda=0.009005545129316126, subsample=0.8435839525805869,\n              verbose=-1)</pre></div></div></div></div></div></div></div></div></div></div></div><div class=\"sk-parallel-item\"><div class=\"sk-item\"><div class=\"sk-label-container\"><div class=\"sk-label sk-toggleable\"><label>cb</label></div></div><div class=\"sk-serial\"><div class=\"sk-item sk-dashed-wrapped\"><div class=\"sk-parallel\"><div class=\"sk-parallel-item\"><div class=\"sk-item\"><div class=\"sk-label-container\"><div class=\"sk-label sk-toggleable\"><input class=\"sk-toggleable__control sk-hidden--visually\" id=\"sk-estimator-id-12\" type=\"checkbox\" ><label for=\"sk-estimator-id-12\" class=\"sk-toggleable__label sk-toggleable__label-arrow\">regressor: CatBoostRegressor</label><div class=\"sk-toggleable__content\"><pre>&lt;catboost.core.CatBoostRegressor object at 0x00000258D29FBDD0&gt;</pre></div></div></div><div class=\"sk-serial\"><div class=\"sk-item\"><div class=\"sk-estimator sk-toggleable\"><input class=\"sk-toggleable__control sk-hidden--visually\" id=\"sk-estimator-id-13\" type=\"checkbox\" ><label for=\"sk-estimator-id-13\" class=\"sk-toggleable__label sk-toggleable__label-arrow\">CatBoostRegressor</label><div class=\"sk-toggleable__content\"><pre>&lt;catboost.core.CatBoostRegressor object at 0x00000258D29FBDD0&gt;</pre></div></div></div></div></div></div></div></div></div></div></div></div></div></div></div>"
     },
     "execution_count": 90,
     "metadata": {},
     "output_type": "execute_result"
    }
   ],
   "source": [
    "ensemble.fit(X, y)"
   ],
   "metadata": {
    "collapsed": false,
    "ExecuteTime": {
     "end_time": "2024-04-30T02:48:41.723685200Z",
     "start_time": "2024-04-30T02:48:22.648972Z"
    }
   },
   "id": "25109761fec63d"
  },
  {
   "cell_type": "markdown",
   "source": [
    "# Submit the Output"
   ],
   "metadata": {
    "collapsed": false
   },
   "id": "e1ce86bace111bcd"
  },
  {
   "cell_type": "code",
   "execution_count": 91,
   "outputs": [
    {
     "data": {
      "text/plain": "       Sex_F  Sex_M  Sex_I  Length  Diameter  Height  Whole_weight  \\\nid                                                                   \n90615      0      1      0   0.645     0.475   0.155        1.2380   \n90616      0      1      0   0.580     0.460   0.160        0.9830   \n90617      0      1      0   0.560     0.420   0.140        0.8395   \n90618      0      1      0   0.570     0.490   0.145        0.8740   \n90619      0      0      1   0.415     0.325   0.110        0.3580   \n\n       Shucked_weight  Viscera_weight  Shell_weight  ShellRatio  \nid                                                               \n90615          0.6185          0.3125        0.3005    0.485853  \n90616          0.4785          0.2195        0.2750    0.574713  \n90617          0.3525          0.1845        0.2405    0.682270  \n90618          0.3525          0.1865        0.2350    0.666667  \n90619          0.1575          0.0670        0.1050    0.666667  ",
      "text/html": "<div>\n<style scoped>\n    .dataframe tbody tr th:only-of-type {\n        vertical-align: middle;\n    }\n\n    .dataframe tbody tr th {\n        vertical-align: top;\n    }\n\n    .dataframe thead th {\n        text-align: right;\n    }\n</style>\n<table border=\"1\" class=\"dataframe\">\n  <thead>\n    <tr style=\"text-align: right;\">\n      <th></th>\n      <th>Sex_F</th>\n      <th>Sex_M</th>\n      <th>Sex_I</th>\n      <th>Length</th>\n      <th>Diameter</th>\n      <th>Height</th>\n      <th>Whole_weight</th>\n      <th>Shucked_weight</th>\n      <th>Viscera_weight</th>\n      <th>Shell_weight</th>\n      <th>ShellRatio</th>\n    </tr>\n    <tr>\n      <th>id</th>\n      <th></th>\n      <th></th>\n      <th></th>\n      <th></th>\n      <th></th>\n      <th></th>\n      <th></th>\n      <th></th>\n      <th></th>\n      <th></th>\n      <th></th>\n    </tr>\n  </thead>\n  <tbody>\n    <tr>\n      <th>90615</th>\n      <td>0</td>\n      <td>1</td>\n      <td>0</td>\n      <td>0.645</td>\n      <td>0.475</td>\n      <td>0.155</td>\n      <td>1.2380</td>\n      <td>0.6185</td>\n      <td>0.3125</td>\n      <td>0.3005</td>\n      <td>0.485853</td>\n    </tr>\n    <tr>\n      <th>90616</th>\n      <td>0</td>\n      <td>1</td>\n      <td>0</td>\n      <td>0.580</td>\n      <td>0.460</td>\n      <td>0.160</td>\n      <td>0.9830</td>\n      <td>0.4785</td>\n      <td>0.2195</td>\n      <td>0.2750</td>\n      <td>0.574713</td>\n    </tr>\n    <tr>\n      <th>90617</th>\n      <td>0</td>\n      <td>1</td>\n      <td>0</td>\n      <td>0.560</td>\n      <td>0.420</td>\n      <td>0.140</td>\n      <td>0.8395</td>\n      <td>0.3525</td>\n      <td>0.1845</td>\n      <td>0.2405</td>\n      <td>0.682270</td>\n    </tr>\n    <tr>\n      <th>90618</th>\n      <td>0</td>\n      <td>1</td>\n      <td>0</td>\n      <td>0.570</td>\n      <td>0.490</td>\n      <td>0.145</td>\n      <td>0.8740</td>\n      <td>0.3525</td>\n      <td>0.1865</td>\n      <td>0.2350</td>\n      <td>0.666667</td>\n    </tr>\n    <tr>\n      <th>90619</th>\n      <td>0</td>\n      <td>0</td>\n      <td>1</td>\n      <td>0.415</td>\n      <td>0.325</td>\n      <td>0.110</td>\n      <td>0.3580</td>\n      <td>0.1575</td>\n      <td>0.0670</td>\n      <td>0.1050</td>\n      <td>0.666667</td>\n    </tr>\n  </tbody>\n</table>\n</div>"
     },
     "execution_count": 91,
     "metadata": {},
     "output_type": "execute_result"
    }
   ],
   "source": [
    "pred_data.head()"
   ],
   "metadata": {
    "collapsed": false,
    "ExecuteTime": {
     "end_time": "2024-04-30T02:48:41.732345700Z",
     "start_time": "2024-04-30T02:48:41.724776900Z"
    }
   },
   "id": "cd0f444666b88a4e"
  },
  {
   "cell_type": "code",
   "execution_count": 92,
   "outputs": [],
   "source": [
    "pred = ensemble.predict(pred_data)"
   ],
   "metadata": {
    "collapsed": false,
    "ExecuteTime": {
     "end_time": "2024-04-30T02:48:42.476660100Z",
     "start_time": "2024-04-30T02:48:41.732345700Z"
    }
   },
   "id": "551350921c50dd09"
  },
  {
   "cell_type": "code",
   "execution_count": 93,
   "outputs": [],
   "source": [
    "submission = pd.DataFrame(pred_data.index)\n",
    "submission[\"Rings\"] = pred\n",
    "submission.to_csv(\"submission.csv\", index=False)"
   ],
   "metadata": {
    "collapsed": false,
    "ExecuteTime": {
     "end_time": "2024-04-30T02:48:42.546267700Z",
     "start_time": "2024-04-30T02:48:42.477783100Z"
    }
   },
   "id": "a2d4860fc1ad5b8e"
  }
 ],
 "metadata": {
  "kernelspec": {
   "display_name": "Python 3",
   "language": "python",
   "name": "python3"
  },
  "language_info": {
   "codemirror_mode": {
    "name": "ipython",
    "version": 2
   },
   "file_extension": ".py",
   "mimetype": "text/x-python",
   "name": "python",
   "nbconvert_exporter": "python",
   "pygments_lexer": "ipython2",
   "version": "2.7.6"
  }
 },
 "nbformat": 4,
 "nbformat_minor": 5
}
